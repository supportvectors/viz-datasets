{
 "cells": [
  {
   "cell_type": "code",
   "execution_count": 2,
   "metadata": {
    "ExecuteTime": {
     "end_time": "2022-01-05T04:29:08.515615Z",
     "start_time": "2022-01-05T04:29:08.498228Z"
    }
   },
   "outputs": [
    {
     "data": {
      "text/html": [
       "\n",
       "<!-- Many of the styles here are inspired by: \n",
       "    https://towardsdatascience.com/10-practical-tips-you-need-to-know-to-personalize-jupyter-notebook-fbd202777e20 \n",
       "       \n",
       "    \n",
       "    On the author's local machine, these exist in the custom.css file. However, in order to keep uniform look and feel, \n",
       "    and at the request of participants, I have added it to this common import-file here.\n",
       "\n",
       "    -->\n",
       "\n",
       "<link href=\"https://fonts.googleapis.com/css?family=Lora:400,700|Montserrat:300\" rel=\"stylesheet\">\n",
       "\n",
       "<link href=\"https://fonts.googleapis.com/css2?family=Crimson+Pro&family=Literata&display=swap\" rel=\"stylesheet\">\n",
       "<style>\n",
       "\n",
       "\n",
       "#ipython_notebook::before{\n",
       " content:\"Comprehensive Introduction to Data Science\";\n",
       "        color: white;\n",
       "        font-weight: bold;\n",
       "        text-transform: uppercase;\n",
       "        font-family: 'Lora',serif;\n",
       "        font-size:20pt;\n",
       "        margin-bottom:15px;\n",
       "           \n",
       "}\n",
       "body > #header {\n",
       "    background: maroon;\n",
       "        opacity: 0.7;\n",
       "}\n",
       "\n",
       "\n",
       ".navbar-default .navbar-nav > li > a, #kernel_indicator {\n",
       "    color: white;\n",
       "    transition: all 0.25s;\n",
       "    font-size:12pt;\n",
       "    font-family: sans;\n",
       "    /*font-weight:bold;*/\n",
       "}\n",
       ".navbar-default {\n",
       "    padding-left:100px;\n",
       "    background: none;\n",
       "    border: none;\n",
       "}\n",
       "\n",
       "\n",
       "body > menubar-container {\n",
       "    background-color: wheat;\n",
       "}\n",
       "#ipython_notebook img{                                                                                        \n",
       "    display:block; \n",
       "    \n",
       "    background: url(\"https://www.supportvectors.com/wp-content/uploads/2016/03/logo-poster-smaller.png\") no-repeat;\n",
       "    background-size: contain;\n",
       "   \n",
       "    padding-left: 600px;\n",
       "    padding-right: 100px;\n",
       "    \n",
       "    -moz-box-sizing: border-box;\n",
       "    box-sizing: border-box;\n",
       "}\n",
       "\n",
       "\n",
       "\n",
       "body {\n",
       " #font-family:  'Literata', serif;\n",
       "    font-family:'Lora', san-serif;\n",
       "    text-align: justify;\n",
       "    font-weight: 400;\n",
       "    font-size: 12pt;\n",
       "}\n",
       "\n",
       "iframe{\n",
       "    width:100%;\n",
       "    min-height:600px;\n",
       "}\n",
       "\n",
       "h1, h2, h3, h4, h5, h6 {\n",
       "# font-family: 'Montserrat', sans-serif;\n",
       " font-family:'Lora', serif;\n",
       " font-weight: 200;\n",
       " text-transform: uppercase;\n",
       " color: #EC7063 ;\n",
       "}\n",
       "\n",
       "h2 {\n",
       "    color: #000080;\n",
       "}\n",
       "\n",
       ".checkpoint_status, .autosave_status {\n",
       "    color:wheat;\n",
       "}\n",
       "\n",
       "#notebook_name {\n",
       "    font-weight: 1000;\n",
       "    font-size:20pt;\n",
       "    text-variant:uppercase;\n",
       "    color: wheat; \n",
       "    margin-right:20px;\n",
       "}\n",
       "#notebook_name:hover {\n",
       "background-color: salmon;\n",
       "}\n",
       "\n",
       "\n",
       ".dataframe { /* dataframe atau table */\n",
       "    background: white;\n",
       "    box-shadow: 0px 1px 2px #bbb;\n",
       "}\n",
       ".dataframe thead th, .dataframe tbody td {\n",
       "    text-align: center;\n",
       "    padding: 1em;\n",
       "}\n",
       "\n",
       ".checkpoint_status, .autosave_status {\n",
       "    color:wheat;\n",
       "}\n",
       "\n",
       ".output {\n",
       "    align-items: center;\n",
       "}\n",
       "\n",
       "div.cell {\n",
       "    transition: all 0.25s;\n",
       "    border: none;\n",
       "    position: relative;\n",
       "    top: 0;\n",
       "}\n",
       "div.cell.selected, div.cell.selected.jupyter-soft-selected {\n",
       "    border: none;\n",
       "    background: transparent;\n",
       "    box-shadow: 0 6px 18px #aaa;\n",
       "    z-index: 10;\n",
       "    top: -10px;\n",
       "}\n",
       ".CodeMirror pre, .CodeMirror-dialog, .CodeMirror-dialog .CodeMirror-search-field, .terminal-app .terminal {\n",
       "    font-family: 'Source Code Pro Medium' , serif; \n",
       "    font-weight: 500;\n",
       "    font-size: 12pt;\n",
       "}\n",
       "\n",
       "\n",
       "\n",
       "</style>    \n"
      ],
      "text/plain": [
       "<IPython.core.display.HTML object>"
      ]
     },
     "metadata": {},
     "output_type": "display_data"
    }
   ],
   "source": [
    "%run supportvectors-style.ipynb"
   ]
  },
  {
   "cell_type": "markdown",
   "metadata": {},
   "source": [
    "# Installation of the visualization libraries\n",
    "\n",
    "In the course of the workshop, we will need the following libraries for our data visualization needs. Run the below cell to install these."
   ]
  },
  {
   "cell_type": "code",
   "execution_count": 5,
   "metadata": {
    "ExecuteTime": {
     "end_time": "2022-01-05T04:30:56.799266Z",
     "start_time": "2022-01-05T04:30:07.726249Z"
    },
    "scrolled": false
   },
   "outputs": [
    {
     "data": {
      "text/markdown": [
       "<hr><span style=\"color: salmon; font-weight: bold; width=1000px\">SEABORN library verification and installation if needed</span> <hr>"
      ],
      "text/plain": [
       "<IPython.core.display.Markdown object>"
      ]
     },
     "metadata": {},
     "output_type": "display_data"
    },
    {
     "name": "stdout",
     "output_type": "stream",
     "text": [
      "Requirement already satisfied: seaborn in /home/asif/anaconda3/lib/python3.8/site-packages (0.11.2)\n",
      "Requirement already satisfied: matplotlib>=2.2 in /home/asif/anaconda3/lib/python3.8/site-packages (from seaborn) (3.4.3)\n",
      "Requirement already satisfied: numpy>=1.15 in /home/asif/anaconda3/lib/python3.8/site-packages (from seaborn) (1.19.5)\n",
      "Requirement already satisfied: scipy>=1.0 in /home/asif/anaconda3/lib/python3.8/site-packages (from seaborn) (1.5.0)\n",
      "Requirement already satisfied: pandas>=0.23 in /home/asif/anaconda3/lib/python3.8/site-packages (from seaborn) (1.1.1)\n",
      "Requirement already satisfied: cycler>=0.10 in /home/asif/anaconda3/lib/python3.8/site-packages (from matplotlib>=2.2->seaborn) (0.10.0)\n",
      "Requirement already satisfied: kiwisolver>=1.0.1 in /home/asif/anaconda3/lib/python3.8/site-packages (from matplotlib>=2.2->seaborn) (1.2.0)\n",
      "Requirement already satisfied: pyparsing>=2.2.1 in /home/asif/anaconda3/lib/python3.8/site-packages (from matplotlib>=2.2->seaborn) (2.4.7)\n",
      "Requirement already satisfied: pillow>=6.2.0 in /home/asif/anaconda3/lib/python3.8/site-packages (from matplotlib>=2.2->seaborn) (6.2.2)\n",
      "Requirement already satisfied: python-dateutil>=2.7 in /home/asif/anaconda3/lib/python3.8/site-packages (from matplotlib>=2.2->seaborn) (2.8.1)\n",
      "Requirement already satisfied: pytz>=2017.2 in /home/asif/anaconda3/lib/python3.8/site-packages (from pandas>=0.23->seaborn) (2020.1)\n",
      "Requirement already satisfied: six in /home/asif/anaconda3/lib/python3.8/site-packages (from cycler>=0.10->matplotlib>=2.2->seaborn) (1.15.0)\n"
     ]
    },
    {
     "data": {
      "text/markdown": [
       "<hr><span style=\"color: salmon; font-weight: bold; width=1000px\">ALTAIR library verification and installation if needed</span> <hr>"
      ],
      "text/plain": [
       "<IPython.core.display.Markdown object>"
      ]
     },
     "metadata": {},
     "output_type": "display_data"
    },
    {
     "name": "stdout",
     "output_type": "stream",
     "text": [
      "Requirement already satisfied: altair in /home/asif/anaconda3/lib/python3.8/site-packages (4.1.0)\n",
      "Collecting altair\n",
      "  Downloading altair-4.2.0-py3-none-any.whl (812 kB)\n",
      "     |████████████████████████████████| 812 kB 1.8 MB/s            \n",
      "\u001b[?25hRequirement already satisfied: entrypoints in /home/asif/anaconda3/lib/python3.8/site-packages (from altair) (0.3)\n",
      "Requirement already satisfied: toolz in /home/asif/anaconda3/lib/python3.8/site-packages (from altair) (0.10.0)\n",
      "Requirement already satisfied: jinja2 in /home/asif/anaconda3/lib/python3.8/site-packages (from altair) (2.11.2)\n",
      "Requirement already satisfied: jsonschema>=3.0 in /home/asif/anaconda3/lib/python3.8/site-packages (from altair) (3.2.0)\n",
      "Requirement already satisfied: pandas>=0.18 in /home/asif/anaconda3/lib/python3.8/site-packages (from altair) (1.1.1)\n",
      "Requirement already satisfied: numpy in /home/asif/anaconda3/lib/python3.8/site-packages (from altair) (1.19.5)\n",
      "Requirement already satisfied: pyrsistent>=0.14.0 in /home/asif/anaconda3/lib/python3.8/site-packages (from jsonschema>=3.0->altair) (0.16.0)\n",
      "Requirement already satisfied: six>=1.11.0 in /home/asif/anaconda3/lib/python3.8/site-packages (from jsonschema>=3.0->altair) (1.15.0)\n",
      "Requirement already satisfied: attrs>=17.4.0 in /home/asif/anaconda3/lib/python3.8/site-packages (from jsonschema>=3.0->altair) (21.2.0)\n",
      "Requirement already satisfied: setuptools in /home/asif/anaconda3/lib/python3.8/site-packages (from jsonschema>=3.0->altair) (58.2.0)\n",
      "Requirement already satisfied: pytz>=2017.2 in /home/asif/anaconda3/lib/python3.8/site-packages (from pandas>=0.18->altair) (2020.1)\n",
      "Requirement already satisfied: python-dateutil>=2.7.3 in /home/asif/anaconda3/lib/python3.8/site-packages (from pandas>=0.18->altair) (2.8.1)\n",
      "Requirement already satisfied: MarkupSafe>=0.23 in /home/asif/anaconda3/lib/python3.8/site-packages (from jinja2->altair) (1.1.1)\n",
      "Installing collected packages: altair\n",
      "  Attempting uninstall: altair\n",
      "    Found existing installation: altair 4.1.0\n",
      "    Uninstalling altair-4.1.0:\n",
      "      Successfully uninstalled altair-4.1.0\n",
      "Successfully installed altair-4.2.0\n"
     ]
    },
    {
     "data": {
      "text/markdown": [
       "<hr><span style=\"color: salmon; font-weight: bold; width=1000px\">BOKEH library verification and installation if needed</span> <hr>"
      ],
      "text/plain": [
       "<IPython.core.display.Markdown object>"
      ]
     },
     "metadata": {},
     "output_type": "display_data"
    },
    {
     "name": "stdout",
     "output_type": "stream",
     "text": [
      "Requirement already satisfied: bokeh in /home/asif/anaconda3/lib/python3.8/site-packages (2.1.1)\n",
      "Collecting bokeh\n",
      "  Downloading bokeh-2.4.2-py3-none-any.whl (18.5 MB)\n",
      "     |████████████████████████████████| 18.5 MB 1.6 MB/s            \n",
      "\u001b[?25hRequirement already satisfied: numpy>=1.11.3 in /home/asif/anaconda3/lib/python3.8/site-packages (from bokeh) (1.19.5)\n",
      "Requirement already satisfied: Jinja2>=2.9 in /home/asif/anaconda3/lib/python3.8/site-packages (from bokeh) (2.11.2)\n",
      "Requirement already satisfied: typing-extensions>=3.10.0 in /home/asif/anaconda3/lib/python3.8/site-packages (from bokeh) (3.10.0.2)\n",
      "Collecting pillow>=7.1.0\n",
      "  Downloading Pillow-9.0.0-cp38-cp38-manylinux_2_17_x86_64.manylinux2014_x86_64.whl (4.3 MB)\n",
      "     |████████████████████████████████| 4.3 MB 64.2 MB/s            \n",
      "\u001b[?25hRequirement already satisfied: PyYAML>=3.10 in /home/asif/anaconda3/lib/python3.8/site-packages (from bokeh) (5.3.1)\n",
      "Requirement already satisfied: packaging>=16.8 in /home/asif/anaconda3/lib/python3.8/site-packages (from bokeh) (20.4)\n",
      "Requirement already satisfied: tornado>=5.1 in /home/asif/anaconda3/lib/python3.8/site-packages (from bokeh) (6.1)\n",
      "Requirement already satisfied: MarkupSafe>=0.23 in /home/asif/anaconda3/lib/python3.8/site-packages (from Jinja2>=2.9->bokeh) (1.1.1)\n",
      "Requirement already satisfied: six in /home/asif/anaconda3/lib/python3.8/site-packages (from packaging>=16.8->bokeh) (1.15.0)\n",
      "Requirement already satisfied: pyparsing>=2.0.2 in /home/asif/anaconda3/lib/python3.8/site-packages (from packaging>=16.8->bokeh) (2.4.7)\n",
      "Installing collected packages: pillow, bokeh\n",
      "  Attempting uninstall: pillow\n",
      "    Found existing installation: Pillow 6.2.2\n",
      "    Uninstalling Pillow-6.2.2:\n",
      "      Successfully uninstalled Pillow-6.2.2\n",
      "  Attempting uninstall: bokeh\n",
      "    Found existing installation: bokeh 2.1.1\n",
      "    Uninstalling bokeh-2.1.1:\n",
      "      Successfully uninstalled bokeh-2.1.1\n",
      "\u001b[31mERROR: pip's dependency resolver does not currently take into account all the packages that are installed. This behaviour is the source of the following dependency conflicts.\n",
      "google-images-search 1.2.1 requires Pillow~=6.0, but you have pillow 9.0.0 which is incompatible.\u001b[0m\n",
      "Successfully installed bokeh-2.4.2 pillow-9.0.0\n"
     ]
    },
    {
     "data": {
      "text/markdown": [
       "<hr><span style=\"color: salmon; font-weight: bold; width=1000px\">PLOTLY library verification and installation if needed</span> <hr>"
      ],
      "text/plain": [
       "<IPython.core.display.Markdown object>"
      ]
     },
     "metadata": {},
     "output_type": "display_data"
    },
    {
     "name": "stdout",
     "output_type": "stream",
     "text": [
      "Requirement already satisfied: plotly in /home/asif/anaconda3/lib/python3.8/site-packages (5.3.0)\n",
      "Collecting plotly\n",
      "  Downloading plotly-5.5.0-py2.py3-none-any.whl (26.5 MB)\n",
      "     |████████████████████████████████| 26.5 MB 17.1 MB/s            \n",
      "\u001b[?25hRequirement already satisfied: six in /home/asif/anaconda3/lib/python3.8/site-packages (from plotly) (1.15.0)\n",
      "Requirement already satisfied: tenacity>=6.2.0 in /home/asif/anaconda3/lib/python3.8/site-packages (from plotly) (8.0.1)\n",
      "Installing collected packages: plotly\n",
      "  Attempting uninstall: plotly\n",
      "    Found existing installation: plotly 5.3.0\n",
      "    Uninstalling plotly-5.3.0:\n",
      "      Successfully uninstalled plotly-5.3.0\n",
      "\u001b[31mERROR: pip's dependency resolver does not currently take into account all the packages that are installed. This behaviour is the source of the following dependency conflicts.\n",
      "mitosheet3 0.3.153 requires plotly==5.3.0, but you have plotly 5.5.0 which is incompatible.\u001b[0m\n",
      "Successfully installed plotly-5.5.0\n"
     ]
    },
    {
     "data": {
      "text/markdown": [
       "<hr><span style=\"color: salmon; font-weight: bold; width=1000px\">FOLIUM library verification and installation if needed</span> <hr>"
      ],
      "text/plain": [
       "<IPython.core.display.Markdown object>"
      ]
     },
     "metadata": {},
     "output_type": "display_data"
    },
    {
     "name": "stdout",
     "output_type": "stream",
     "text": [
      "Requirement already satisfied: folium in /home/asif/anaconda3/lib/python3.8/site-packages (0.12.1)\n",
      "Collecting folium\n",
      "  Downloading folium-0.12.1.post1-py2.py3-none-any.whl (95 kB)\n",
      "     |████████████████████████████████| 95 kB 1.5 MB/s             \n",
      "\u001b[?25hRequirement already satisfied: branca>=0.3.0 in /home/asif/anaconda3/lib/python3.8/site-packages (from folium) (0.4.2)\n",
      "Requirement already satisfied: jinja2>=2.9 in /home/asif/anaconda3/lib/python3.8/site-packages (from folium) (2.11.2)\n",
      "Requirement already satisfied: requests in /home/asif/anaconda3/lib/python3.8/site-packages (from folium) (2.25.0)\n",
      "Requirement already satisfied: numpy in /home/asif/anaconda3/lib/python3.8/site-packages (from folium) (1.19.5)\n",
      "Requirement already satisfied: MarkupSafe>=0.23 in /home/asif/anaconda3/lib/python3.8/site-packages (from jinja2>=2.9->folium) (1.1.1)\n",
      "Requirement already satisfied: urllib3<1.27,>=1.21.1 in /home/asif/anaconda3/lib/python3.8/site-packages (from requests->folium) (1.25.10)\n",
      "Requirement already satisfied: idna<3,>=2.5 in /home/asif/anaconda3/lib/python3.8/site-packages (from requests->folium) (2.10)\n",
      "Requirement already satisfied: certifi>=2017.4.17 in /home/asif/anaconda3/lib/python3.8/site-packages (from requests->folium) (2020.6.20)\n",
      "Requirement already satisfied: chardet<4,>=3.0.2 in /home/asif/anaconda3/lib/python3.8/site-packages (from requests->folium) (3.0.4)\n",
      "Installing collected packages: folium\n",
      "  Attempting uninstall: folium\n",
      "    Found existing installation: folium 0.12.1\n",
      "    Uninstalling folium-0.12.1:\n",
      "      Successfully uninstalled folium-0.12.1\n",
      "Successfully installed folium-0.12.1.post1\n"
     ]
    },
    {
     "data": {
      "text/markdown": [
       "<hr><span style=\"color: salmon; font-weight: bold; width=1000px\">GEOPANDAS library verification and installation if needed</span> <hr>"
      ],
      "text/plain": [
       "<IPython.core.display.Markdown object>"
      ]
     },
     "metadata": {},
     "output_type": "display_data"
    },
    {
     "name": "stdout",
     "output_type": "stream",
     "text": [
      "Requirement already satisfied: geopandas in /home/asif/anaconda3/lib/python3.8/site-packages (0.10.2)\n",
      "Requirement already satisfied: fiona>=1.8 in /home/asif/anaconda3/lib/python3.8/site-packages (from geopandas) (1.8.20)\n",
      "Requirement already satisfied: shapely>=1.6 in /home/asif/anaconda3/lib/python3.8/site-packages (from geopandas) (1.8.0)\n",
      "Requirement already satisfied: pandas>=0.25.0 in /home/asif/anaconda3/lib/python3.8/site-packages (from geopandas) (1.1.1)\n",
      "Requirement already satisfied: pyproj>=2.2.0 in /home/asif/anaconda3/lib/python3.8/site-packages (from geopandas) (3.3.0)\n",
      "Requirement already satisfied: click-plugins>=1.0 in /home/asif/anaconda3/lib/python3.8/site-packages (from fiona>=1.8->geopandas) (1.1.1)\n",
      "Requirement already satisfied: six>=1.7 in /home/asif/anaconda3/lib/python3.8/site-packages (from fiona>=1.8->geopandas) (1.15.0)\n",
      "Requirement already satisfied: setuptools in /home/asif/anaconda3/lib/python3.8/site-packages (from fiona>=1.8->geopandas) (58.2.0)\n",
      "Requirement already satisfied: munch in /home/asif/anaconda3/lib/python3.8/site-packages (from fiona>=1.8->geopandas) (2.5.0)\n",
      "Requirement already satisfied: cligj>=0.5 in /home/asif/anaconda3/lib/python3.8/site-packages (from fiona>=1.8->geopandas) (0.7.2)\n",
      "Requirement already satisfied: click>=4.0 in /home/asif/anaconda3/lib/python3.8/site-packages (from fiona>=1.8->geopandas) (7.1.2)\n",
      "Requirement already satisfied: attrs>=17 in /home/asif/anaconda3/lib/python3.8/site-packages (from fiona>=1.8->geopandas) (21.2.0)\n",
      "Requirement already satisfied: certifi in /home/asif/anaconda3/lib/python3.8/site-packages (from fiona>=1.8->geopandas) (2020.6.20)\n",
      "Requirement already satisfied: python-dateutil>=2.7.3 in /home/asif/anaconda3/lib/python3.8/site-packages (from pandas>=0.25.0->geopandas) (2.8.1)\n",
      "Requirement already satisfied: numpy>=1.15.4 in /home/asif/anaconda3/lib/python3.8/site-packages (from pandas>=0.25.0->geopandas) (1.19.5)\n",
      "Requirement already satisfied: pytz>=2017.2 in /home/asif/anaconda3/lib/python3.8/site-packages (from pandas>=0.25.0->geopandas) (2020.1)\n"
     ]
    },
    {
     "data": {
      "text/markdown": [
       "<hr><span style=\"color: salmon; font-weight: bold; width=1000px\">GEEMAP library verification and installation if needed</span> <hr>"
      ],
      "text/plain": [
       "<IPython.core.display.Markdown object>"
      ]
     },
     "metadata": {},
     "output_type": "display_data"
    },
    {
     "name": "stdout",
     "output_type": "stream",
     "text": [
      "Requirement already satisfied: geemap in /home/asif/anaconda3/lib/python3.8/site-packages (0.10.2)\n",
      "Requirement already satisfied: palettable in /home/asif/anaconda3/lib/python3.8/site-packages (from geemap) (3.3.0)\n",
      "Requirement already satisfied: ipyleaflet<=0.14.0 in /home/asif/anaconda3/lib/python3.8/site-packages (from geemap) (0.14.0)\n",
      "Requirement already satisfied: owslib in /home/asif/anaconda3/lib/python3.8/site-packages (from geemap) (0.25.0)\n",
      "Requirement already satisfied: matplotlib in /home/asif/anaconda3/lib/python3.8/site-packages (from geemap) (3.4.3)\n",
      "Requirement already satisfied: geocoder in /home/asif/anaconda3/lib/python3.8/site-packages (from geemap) (1.38.1)\n",
      "Requirement already satisfied: ffmpeg-python in /home/asif/anaconda3/lib/python3.8/site-packages (from geemap) (0.2.0)\n",
      "Requirement already satisfied: geojson in /home/asif/anaconda3/lib/python3.8/site-packages (from geemap) (2.5.0)\n",
      "Requirement already satisfied: xyzservices in /home/asif/anaconda3/lib/python3.8/site-packages (from geemap) (2021.11.0)\n",
      "Requirement already satisfied: bqplot in /home/asif/anaconda3/lib/python3.8/site-packages (from geemap) (0.12.31)\n",
      "Requirement already satisfied: geeadd>=0.5.1 in /home/asif/anaconda3/lib/python3.8/site-packages (from geemap) (0.5.5)\n",
      "Requirement already satisfied: ipytree in /home/asif/anaconda3/lib/python3.8/site-packages (from geemap) (0.2.1)\n",
      "Requirement already satisfied: numpy in /home/asif/anaconda3/lib/python3.8/site-packages (from geemap) (1.19.5)\n",
      "Requirement already satisfied: pillow in /home/asif/anaconda3/lib/python3.8/site-packages (from geemap) (9.0.0)\n",
      "Requirement already satisfied: ipyevents in /home/asif/anaconda3/lib/python3.8/site-packages (from geemap) (2.0.1)\n",
      "Requirement already satisfied: folium>=0.11.0 in /home/asif/anaconda3/lib/python3.8/site-packages (from geemap) (0.12.1.post1)\n",
      "Requirement already satisfied: mss in /home/asif/anaconda3/lib/python3.8/site-packages (from geemap) (6.1.0)\n",
      "Requirement already satisfied: earthengine-api>=0.1.230 in /home/asif/anaconda3/lib/python3.8/site-packages (from geemap) (0.1.292)\n",
      "Requirement already satisfied: whiteboxgui>=0.6.0 in /home/asif/anaconda3/lib/python3.8/site-packages (from geemap) (0.6.0)\n",
      "Requirement already satisfied: jupyterlab>=3 in /home/asif/anaconda3/lib/python3.8/site-packages (from geemap) (3.1.14)\n",
      "Requirement already satisfied: voila in /home/asif/anaconda3/lib/python3.8/site-packages (from geemap) (0.3.0)\n",
      "Requirement already satisfied: pyshp>=2.1.3 in /home/asif/anaconda3/lib/python3.8/site-packages (from geemap) (2.1.3)\n",
      "Requirement already satisfied: click in /home/asif/anaconda3/lib/python3.8/site-packages (from geemap) (7.1.2)\n",
      "Requirement already satisfied: python-box in /home/asif/anaconda3/lib/python3.8/site-packages (from geemap) (5.4.1)\n",
      "Requirement already satisfied: ipynb-py-convert in /home/asif/anaconda3/lib/python3.8/site-packages (from geemap) (0.4.6)\n",
      "Requirement already satisfied: colour in /home/asif/anaconda3/lib/python3.8/site-packages (from geemap) (0.1.5)\n",
      "Requirement already satisfied: googledrivedownloader in /home/asif/anaconda3/lib/python3.8/site-packages (from geemap) (0.4)\n",
      "Requirement already satisfied: sankee in /home/asif/anaconda3/lib/python3.8/site-packages (from geemap) (0.0.7)\n",
      "Requirement already satisfied: ipyfilechooser>=0.6.0 in /home/asif/anaconda3/lib/python3.8/site-packages (from geemap) (0.6.0)\n",
      "Requirement already satisfied: pycrs in /home/asif/anaconda3/lib/python3.8/site-packages (from geemap) (1.0.2)\n",
      "Requirement already satisfied: pandas in /home/asif/anaconda3/lib/python3.8/site-packages (from geemap) (1.1.1)\n",
      "Requirement already satisfied: httplib2shim in /home/asif/anaconda3/lib/python3.8/site-packages (from earthengine-api>=0.1.230->geemap) (0.0.3)\n",
      "Requirement already satisfied: google-auth-httplib2>=0.0.3 in /home/asif/anaconda3/lib/python3.8/site-packages (from earthengine-api>=0.1.230->geemap) (0.0.4)\n",
      "Requirement already satisfied: google-api-python-client<2,>=1.12.1 in /home/asif/anaconda3/lib/python3.8/site-packages (from earthengine-api>=0.1.230->geemap) (1.12.8)\n",
      "Requirement already satisfied: google-auth>=1.4.1 in /home/asif/anaconda3/lib/python3.8/site-packages (from earthengine-api>=0.1.230->geemap) (1.35.0)\n",
      "Requirement already satisfied: httplib2<1dev,>=0.9.2 in /home/asif/anaconda3/lib/python3.8/site-packages (from earthengine-api>=0.1.230->geemap) (0.18.1)\n",
      "Requirement already satisfied: six in /home/asif/anaconda3/lib/python3.8/site-packages (from earthengine-api>=0.1.230->geemap) (1.15.0)\n",
      "Requirement already satisfied: future in /home/asif/anaconda3/lib/python3.8/site-packages (from earthengine-api>=0.1.230->geemap) (0.18.2)\n",
      "Requirement already satisfied: google-cloud-storage in /home/asif/anaconda3/lib/python3.8/site-packages (from earthengine-api>=0.1.230->geemap) (1.43.0)\n",
      "Requirement already satisfied: branca>=0.3.0 in /home/asif/anaconda3/lib/python3.8/site-packages (from folium>=0.11.0->geemap) (0.4.2)\n",
      "Requirement already satisfied: jinja2>=2.9 in /home/asif/anaconda3/lib/python3.8/site-packages (from folium>=0.11.0->geemap) (2.11.2)\n",
      "Requirement already satisfied: requests in /home/asif/anaconda3/lib/python3.8/site-packages (from folium>=0.11.0->geemap) (2.25.0)\n",
      "Requirement already satisfied: beautifulsoup4>=4.9.0 in /home/asif/anaconda3/lib/python3.8/site-packages (from geeadd>=0.5.1->geemap) (4.9.1)\n",
      "Requirement already satisfied: logzero>=1.5.0 in /home/asif/anaconda3/lib/python3.8/site-packages (from geeadd>=0.5.1->geemap) (1.7.0)\n",
      "Requirement already satisfied: ipywidgets in /home/asif/anaconda3/lib/python3.8/site-packages (from ipyfilechooser>=0.6.0->geemap) (7.6.5)\n",
      "Requirement already satisfied: traittypes<3,>=0.2.1 in /home/asif/anaconda3/lib/python3.8/site-packages (from ipyleaflet<=0.14.0->geemap) (0.2.1)\n",
      "Requirement already satisfied: jupyterlab-server~=2.3 in /home/asif/anaconda3/lib/python3.8/site-packages (from jupyterlab>=3->geemap) (2.8.2)\n",
      "Requirement already satisfied: packaging in /home/asif/anaconda3/lib/python3.8/site-packages (from jupyterlab>=3->geemap) (20.4)\n",
      "Requirement already satisfied: ipython in /home/asif/anaconda3/lib/python3.8/site-packages (from jupyterlab>=3->geemap) (7.16.1)\n",
      "Requirement already satisfied: tornado>=6.1.0 in /home/asif/anaconda3/lib/python3.8/site-packages (from jupyterlab>=3->geemap) (6.1)\n",
      "Requirement already satisfied: nbclassic~=0.2 in /home/asif/anaconda3/lib/python3.8/site-packages (from jupyterlab>=3->geemap) (0.3.2)\n",
      "Requirement already satisfied: jupyter-server~=1.4 in /home/asif/anaconda3/lib/python3.8/site-packages (from jupyterlab>=3->geemap) (1.11.0)\n",
      "Requirement already satisfied: jupyter-core in /home/asif/anaconda3/lib/python3.8/site-packages (from jupyterlab>=3->geemap) (4.6.3)\n",
      "Requirement already satisfied: whitebox in /home/asif/anaconda3/lib/python3.8/site-packages (from whiteboxgui>=0.6.0->geemap) (2.0.3)\n",
      "Requirement already satisfied: traitlets>=4.3.0 in /home/asif/anaconda3/lib/python3.8/site-packages (from bqplot->geemap) (5.1.1)\n",
      "Requirement already satisfied: python-dateutil>=2.7.3 in /home/asif/anaconda3/lib/python3.8/site-packages (from pandas->geemap) (2.8.1)\n",
      "Requirement already satisfied: pytz>=2017.2 in /home/asif/anaconda3/lib/python3.8/site-packages (from pandas->geemap) (2020.1)\n",
      "Requirement already satisfied: ratelim in /home/asif/anaconda3/lib/python3.8/site-packages (from geocoder->geemap) (0.1.6)\n",
      "Requirement already satisfied: kiwisolver>=1.0.1 in /home/asif/anaconda3/lib/python3.8/site-packages (from matplotlib->geemap) (1.2.0)\n",
      "Requirement already satisfied: pyparsing>=2.2.1 in /home/asif/anaconda3/lib/python3.8/site-packages (from matplotlib->geemap) (2.4.7)\n",
      "Requirement already satisfied: cycler>=0.10 in /home/asif/anaconda3/lib/python3.8/site-packages (from matplotlib->geemap) (0.10.0)\n",
      "Requirement already satisfied: pyproj>=2 in /home/asif/anaconda3/lib/python3.8/site-packages (from owslib->geemap) (3.3.0)\n",
      "Requirement already satisfied: pyyaml in /home/asif/anaconda3/lib/python3.8/site-packages (from owslib->geemap) (5.3.1)\n",
      "Requirement already satisfied: ipykernel in /home/asif/anaconda3/lib/python3.8/site-packages (from sankee->geemap) (5.3.2)\n",
      "Requirement already satisfied: plotly>=5.2.2 in /home/asif/anaconda3/lib/python3.8/site-packages (from sankee->geemap) (5.5.0)\n",
      "Requirement already satisfied: nbformat>=4.2.0 in /home/asif/anaconda3/lib/python3.8/site-packages (from sankee->geemap) (5.0.7)\n",
      "Requirement already satisfied: jupyter-client<8,>=6.1.3 in /home/asif/anaconda3/lib/python3.8/site-packages (from voila->geemap) (6.1.6)\n",
      "Requirement already satisfied: nbclient<0.6,>=0.4.0 in /home/asif/anaconda3/lib/python3.8/site-packages (from voila->geemap) (0.5.4)\n",
      "Requirement already satisfied: websockets>=9.0 in /home/asif/anaconda3/lib/python3.8/site-packages (from voila->geemap) (10.1)\n",
      "Requirement already satisfied: nbconvert<7,>=6.0.0 in /home/asif/anaconda3/lib/python3.8/site-packages (from voila->geemap) (6.3.0)\n",
      "Requirement already satisfied: soupsieve>1.2 in /home/asif/anaconda3/lib/python3.8/site-packages (from beautifulsoup4>=4.9.0->geeadd>=0.5.1->geemap) (2.0.1)\n",
      "Requirement already satisfied: uritemplate<4dev,>=3.0.0 in /home/asif/anaconda3/lib/python3.8/site-packages (from google-api-python-client<2,>=1.12.1->earthengine-api>=0.1.230->geemap) (3.0.1)\n",
      "Requirement already satisfied: google-api-core<2dev,>=1.21.0 in /home/asif/anaconda3/lib/python3.8/site-packages (from google-api-python-client<2,>=1.12.1->earthengine-api>=0.1.230->geemap) (1.31.5)\n",
      "Requirement already satisfied: rsa<5,>=3.1.4 in /home/asif/anaconda3/lib/python3.8/site-packages (from google-auth>=1.4.1->earthengine-api>=0.1.230->geemap) (4.6)\n",
      "Requirement already satisfied: cachetools<5.0,>=2.0.0 in /home/asif/anaconda3/lib/python3.8/site-packages (from google-auth>=1.4.1->earthengine-api>=0.1.230->geemap) (4.1.1)\n",
      "Requirement already satisfied: setuptools>=40.3.0 in /home/asif/anaconda3/lib/python3.8/site-packages (from google-auth>=1.4.1->earthengine-api>=0.1.230->geemap) (58.2.0)\n",
      "Requirement already satisfied: pyasn1-modules>=0.2.1 in /home/asif/anaconda3/lib/python3.8/site-packages (from google-auth>=1.4.1->earthengine-api>=0.1.230->geemap) (0.2.8)\n"
     ]
    },
    {
     "name": "stdout",
     "output_type": "stream",
     "text": [
      "Requirement already satisfied: jupyterlab-widgets>=1.0.0 in /home/asif/anaconda3/lib/python3.8/site-packages (from ipywidgets->ipyfilechooser>=0.6.0->geemap) (1.0.0)\n",
      "Requirement already satisfied: ipython-genutils~=0.2.0 in /home/asif/anaconda3/lib/python3.8/site-packages (from ipywidgets->ipyfilechooser>=0.6.0->geemap) (0.2.0)\n",
      "Requirement already satisfied: widgetsnbextension~=3.5.0 in /home/asif/anaconda3/lib/python3.8/site-packages (from ipywidgets->ipyfilechooser>=0.6.0->geemap) (3.5.1)\n",
      "Requirement already satisfied: pexpect in /home/asif/anaconda3/lib/python3.8/site-packages (from ipython->jupyterlab>=3->geemap) (4.8.0)\n",
      "Requirement already satisfied: pygments in /home/asif/anaconda3/lib/python3.8/site-packages (from ipython->jupyterlab>=3->geemap) (2.6.1)\n",
      "Requirement already satisfied: backcall in /home/asif/anaconda3/lib/python3.8/site-packages (from ipython->jupyterlab>=3->geemap) (0.2.0)\n",
      "Requirement already satisfied: decorator in /home/asif/anaconda3/lib/python3.8/site-packages (from ipython->jupyterlab>=3->geemap) (4.4.2)\n",
      "Requirement already satisfied: prompt-toolkit!=3.0.0,!=3.0.1,<3.1.0,>=2.0.0 in /home/asif/anaconda3/lib/python3.8/site-packages (from ipython->jupyterlab>=3->geemap) (3.0.5)\n",
      "Requirement already satisfied: jedi>=0.10 in /home/asif/anaconda3/lib/python3.8/site-packages (from ipython->jupyterlab>=3->geemap) (0.17.1)\n",
      "Requirement already satisfied: pickleshare in /home/asif/anaconda3/lib/python3.8/site-packages (from ipython->jupyterlab>=3->geemap) (0.7.5)\n",
      "Requirement already satisfied: MarkupSafe>=0.23 in /home/asif/anaconda3/lib/python3.8/site-packages (from jinja2>=2.9->folium>=0.11.0->geemap) (1.1.1)\n",
      "Requirement already satisfied: pyzmq>=13 in /home/asif/anaconda3/lib/python3.8/site-packages (from jupyter-client<8,>=6.1.3->voila->geemap) (19.0.1)\n",
      "Requirement already satisfied: requests-unixsocket in /home/asif/anaconda3/lib/python3.8/site-packages (from jupyter-server~=1.4->jupyterlab>=3->geemap) (0.2.0)\n",
      "Requirement already satisfied: terminado>=0.8.3 in /home/asif/anaconda3/lib/python3.8/site-packages (from jupyter-server~=1.4->jupyterlab>=3->geemap) (0.8.3)\n",
      "Requirement already satisfied: prometheus-client in /home/asif/anaconda3/lib/python3.8/site-packages (from jupyter-server~=1.4->jupyterlab>=3->geemap) (0.8.0)\n",
      "Requirement already satisfied: Send2Trash in /home/asif/anaconda3/lib/python3.8/site-packages (from jupyter-server~=1.4->jupyterlab>=3->geemap) (1.5.0)\n",
      "Requirement already satisfied: websocket-client in /home/asif/anaconda3/lib/python3.8/site-packages (from jupyter-server~=1.4->jupyterlab>=3->geemap) (0.57.0)\n",
      "Requirement already satisfied: anyio<4,>=3.1.0 in /home/asif/anaconda3/lib/python3.8/site-packages (from jupyter-server~=1.4->jupyterlab>=3->geemap) (3.3.2)\n",
      "Requirement already satisfied: argon2-cffi in /home/asif/anaconda3/lib/python3.8/site-packages (from jupyter-server~=1.4->jupyterlab>=3->geemap) (21.1.0)\n",
      "Requirement already satisfied: jsonschema>=3.0.1 in /home/asif/anaconda3/lib/python3.8/site-packages (from jupyterlab-server~=2.3->jupyterlab>=3->geemap) (3.2.0)\n",
      "Requirement already satisfied: entrypoints>=0.2.2 in /home/asif/anaconda3/lib/python3.8/site-packages (from jupyterlab-server~=2.3->jupyterlab>=3->geemap) (0.3)\n",
      "Requirement already satisfied: json5 in /home/asif/anaconda3/lib/python3.8/site-packages (from jupyterlab-server~=2.3->jupyterlab>=3->geemap) (0.9.5)\n",
      "Requirement already satisfied: babel in /home/asif/anaconda3/lib/python3.8/site-packages (from jupyterlab-server~=2.3->jupyterlab>=3->geemap) (2.8.0)\n",
      "Requirement already satisfied: notebook<7 in /home/asif/anaconda3/lib/python3.8/site-packages (from nbclassic~=0.2->jupyterlab>=3->geemap) (6.0.3)\n",
      "Requirement already satisfied: nest-asyncio in /home/asif/anaconda3/lib/python3.8/site-packages (from nbclient<0.6,>=0.4.0->voila->geemap) (1.5.1)\n",
      "Requirement already satisfied: mistune<2,>=0.8.1 in /home/asif/anaconda3/lib/python3.8/site-packages (from nbconvert<7,>=6.0.0->voila->geemap) (0.8.4)\n",
      "Requirement already satisfied: jupyterlab-pygments in /home/asif/anaconda3/lib/python3.8/site-packages (from nbconvert<7,>=6.0.0->voila->geemap) (0.1.2)\n",
      "Requirement already satisfied: testpath in /home/asif/anaconda3/lib/python3.8/site-packages (from nbconvert<7,>=6.0.0->voila->geemap) (0.4.4)\n",
      "Requirement already satisfied: bleach in /home/asif/anaconda3/lib/python3.8/site-packages (from nbconvert<7,>=6.0.0->voila->geemap) (3.1.5)\n",
      "Requirement already satisfied: pandocfilters>=1.4.1 in /home/asif/anaconda3/lib/python3.8/site-packages (from nbconvert<7,>=6.0.0->voila->geemap) (1.4.2)\n",
      "Requirement already satisfied: defusedxml in /home/asif/anaconda3/lib/python3.8/site-packages (from nbconvert<7,>=6.0.0->voila->geemap) (0.6.0)\n",
      "Requirement already satisfied: tenacity>=6.2.0 in /home/asif/anaconda3/lib/python3.8/site-packages (from plotly>=5.2.2->sankee->geemap) (8.0.1)\n",
      "Requirement already satisfied: certifi in /home/asif/anaconda3/lib/python3.8/site-packages (from pyproj>=2->owslib->geemap) (2020.6.20)\n",
      "Requirement already satisfied: idna<3,>=2.5 in /home/asif/anaconda3/lib/python3.8/site-packages (from requests->folium>=0.11.0->geemap) (2.10)\n",
      "Requirement already satisfied: urllib3<1.27,>=1.21.1 in /home/asif/anaconda3/lib/python3.8/site-packages (from requests->folium>=0.11.0->geemap) (1.25.10)\n",
      "Requirement already satisfied: chardet<4,>=3.0.2 in /home/asif/anaconda3/lib/python3.8/site-packages (from requests->folium>=0.11.0->geemap) (3.0.4)\n",
      "Requirement already satisfied: google-resumable-media<3.0dev,>=1.3.0 in /home/asif/anaconda3/lib/python3.8/site-packages (from google-cloud-storage->earthengine-api>=0.1.230->geemap) (2.1.0)\n",
      "Requirement already satisfied: google-cloud-core<3.0dev,>=1.6.0 in /home/asif/anaconda3/lib/python3.8/site-packages (from google-cloud-storage->earthengine-api>=0.1.230->geemap) (2.2.1)\n",
      "Requirement already satisfied: protobuf in /home/asif/anaconda3/lib/python3.8/site-packages (from google-cloud-storage->earthengine-api>=0.1.230->geemap) (3.19.1)\n",
      "Requirement already satisfied: sniffio>=1.1 in /home/asif/anaconda3/lib/python3.8/site-packages (from anyio<4,>=3.1.0->jupyter-server~=1.4->jupyterlab>=3->geemap) (1.2.0)\n",
      "Requirement already satisfied: googleapis-common-protos<2.0dev,>=1.6.0 in /home/asif/anaconda3/lib/python3.8/site-packages (from google-api-core<2dev,>=1.21.0->google-api-python-client<2,>=1.12.1->earthengine-api>=0.1.230->geemap) (1.52.0)\n",
      "Requirement already satisfied: google-crc32c<2.0dev,>=1.0 in /home/asif/anaconda3/lib/python3.8/site-packages (from google-resumable-media<3.0dev,>=1.3.0->google-cloud-storage->earthengine-api>=0.1.230->geemap) (1.3.0)\n",
      "Requirement already satisfied: parso<0.8.0,>=0.7.0 in /home/asif/anaconda3/lib/python3.8/site-packages (from jedi>=0.10->ipython->jupyterlab>=3->geemap) (0.7.0)\n",
      "Requirement already satisfied: pyrsistent>=0.14.0 in /home/asif/anaconda3/lib/python3.8/site-packages (from jsonschema>=3.0.1->jupyterlab-server~=2.3->jupyterlab>=3->geemap) (0.16.0)\n",
      "Requirement already satisfied: attrs>=17.4.0 in /home/asif/anaconda3/lib/python3.8/site-packages (from jsonschema>=3.0.1->jupyterlab-server~=2.3->jupyterlab>=3->geemap) (21.2.0)\n",
      "Requirement already satisfied: wcwidth in /home/asif/anaconda3/lib/python3.8/site-packages (from prompt-toolkit!=3.0.0,!=3.0.1,<3.1.0,>=2.0.0->ipython->jupyterlab>=3->geemap) (0.2.5)\n",
      "Requirement already satisfied: pyasn1<0.5.0,>=0.4.6 in /home/asif/anaconda3/lib/python3.8/site-packages (from pyasn1-modules>=0.2.1->google-auth>=1.4.1->earthengine-api>=0.1.230->geemap) (0.4.8)\n",
      "Requirement already satisfied: cffi>=1.0.0 in /home/asif/anaconda3/lib/python3.8/site-packages (from argon2-cffi->jupyter-server~=1.4->jupyterlab>=3->geemap) (1.14.1)\n",
      "Requirement already satisfied: webencodings in /home/asif/anaconda3/lib/python3.8/site-packages (from bleach->nbconvert<7,>=6.0.0->voila->geemap) (0.5.1)\n",
      "Requirement already satisfied: ptyprocess>=0.5 in /home/asif/anaconda3/lib/python3.8/site-packages (from pexpect->ipython->jupyterlab>=3->geemap) (0.6.0)\n",
      "Requirement already satisfied: pycparser in /home/asif/anaconda3/lib/python3.8/site-packages (from cffi>=1.0.0->argon2-cffi->jupyter-server~=1.4->jupyterlab>=3->geemap) (2.20)\n"
     ]
    },
    {
     "data": {
      "text/markdown": [
       "<hr><span style=\"color: salmon; font-weight: bold; width=1000px\">EE library verification and installation if needed</span> <hr>"
      ],
      "text/plain": [
       "<IPython.core.display.Markdown object>"
      ]
     },
     "metadata": {},
     "output_type": "display_data"
    },
    {
     "name": "stdout",
     "output_type": "stream",
     "text": [
      "Requirement already satisfied: ee in /home/asif/anaconda3/lib/python3.8/site-packages (0.2)\n",
      "Requirement already satisfied: blessings in /home/asif/anaconda3/lib/python3.8/site-packages (from ee) (1.7)\n",
      "Requirement already satisfied: six in /home/asif/anaconda3/lib/python3.8/site-packages (from blessings->ee) (1.15.0)\n"
     ]
    },
    {
     "data": {
      "text/markdown": [
       "<hr><span style=\"color: salmon; font-weight: bold; width=1000px\">SHAP library verification and installation if needed</span> <hr>"
      ],
      "text/plain": [
       "<IPython.core.display.Markdown object>"
      ]
     },
     "metadata": {},
     "output_type": "display_data"
    },
    {
     "name": "stdout",
     "output_type": "stream",
     "text": [
      "Requirement already satisfied: shap in /home/asif/anaconda3/lib/python3.8/site-packages (0.39.0)\n",
      "Collecting shap\n",
      "  Downloading shap-0.40.0-cp38-cp38-manylinux2010_x86_64.whl (571 kB)\n",
      "     |████████████████████████████████| 571 kB 1.4 MB/s            \n",
      "\u001b[?25hCollecting packaging>20.9\n",
      "  Downloading packaging-21.3-py3-none-any.whl (40 kB)\n",
      "     |████████████████████████████████| 40 kB 2.6 MB/s             \n",
      "\u001b[?25hRequirement already satisfied: pandas in /home/asif/anaconda3/lib/python3.8/site-packages (from shap) (1.1.1)\n",
      "Requirement already satisfied: cloudpickle in /home/asif/anaconda3/lib/python3.8/site-packages (from shap) (1.5.0)\n",
      "Requirement already satisfied: tqdm>4.25.0 in /home/asif/anaconda3/lib/python3.8/site-packages (from shap) (4.62.3)\n",
      "Requirement already satisfied: scipy in /home/asif/anaconda3/lib/python3.8/site-packages (from shap) (1.5.0)\n",
      "Requirement already satisfied: numba in /home/asif/anaconda3/lib/python3.8/site-packages (from shap) (0.50.1)\n",
      "Requirement already satisfied: scikit-learn in /home/asif/anaconda3/lib/python3.8/site-packages (from shap) (0.24.2)\n",
      "Requirement already satisfied: slicer==0.0.7 in /home/asif/anaconda3/lib/python3.8/site-packages (from shap) (0.0.7)\n",
      "Requirement already satisfied: numpy in /home/asif/anaconda3/lib/python3.8/site-packages (from shap) (1.19.5)\n",
      "Requirement already satisfied: pyparsing!=3.0.5,>=2.0.2 in /home/asif/anaconda3/lib/python3.8/site-packages (from packaging>20.9->shap) (2.4.7)\n",
      "Requirement already satisfied: llvmlite<0.34,>=0.33.0.dev0 in /home/asif/anaconda3/lib/python3.8/site-packages (from numba->shap) (0.33.0+1.g022ab0f)\n",
      "Requirement already satisfied: setuptools in /home/asif/anaconda3/lib/python3.8/site-packages (from numba->shap) (58.2.0)\n",
      "Requirement already satisfied: python-dateutil>=2.7.3 in /home/asif/anaconda3/lib/python3.8/site-packages (from pandas->shap) (2.8.1)\n",
      "Requirement already satisfied: pytz>=2017.2 in /home/asif/anaconda3/lib/python3.8/site-packages (from pandas->shap) (2020.1)\n",
      "Requirement already satisfied: joblib>=0.11 in /home/asif/anaconda3/lib/python3.8/site-packages (from scikit-learn->shap) (0.16.0)\n",
      "Requirement already satisfied: threadpoolctl>=2.0.0 in /home/asif/anaconda3/lib/python3.8/site-packages (from scikit-learn->shap) (2.1.0)\n",
      "Requirement already satisfied: six>=1.5 in /home/asif/anaconda3/lib/python3.8/site-packages (from python-dateutil>=2.7.3->pandas->shap) (1.15.0)\n",
      "Installing collected packages: packaging, shap\n",
      "  Attempting uninstall: packaging\n",
      "    Found existing installation: packaging 20.4\n",
      "    Uninstalling packaging-20.4:\n",
      "      Successfully uninstalled packaging-20.4\n",
      "  Attempting uninstall: shap\n",
      "    Found existing installation: shap 0.39.0\n",
      "    Uninstalling shap-0.39.0:\n",
      "      Successfully uninstalled shap-0.39.0\n",
      "\u001b[31mERROR: pip's dependency resolver does not currently take into account all the packages that are installed. This behaviour is the source of the following dependency conflicts.\n",
      "sphinx-thebe 0.0.10 requires sphinx<5,>=3.5, but you have sphinx 3.1.2 which is incompatible.\n",
      "myst-nb 0.12.3 requires nbconvert~=5.6, but you have nbconvert 6.3.0 which is incompatible.\n",
      "auto-sklearn 0.8.0 requires pandas<1.0, but you have pandas 1.1.1 which is incompatible.\n",
      "auto-sklearn 0.8.0 requires scikit-learn<0.23,>=0.22.0, but you have scikit-learn 0.24.2 which is incompatible.\u001b[0m\n",
      "Successfully installed packaging-21.3 shap-0.40.0\n"
     ]
    }
   ],
   "source": [
    "from IPython.display import Markdown\n",
    "\n",
    "libraries = [\n",
    "    'seaborn',\n",
    "    'altair',\n",
    "    'bokeh',\n",
    "    'plotly',\n",
    "    'hvplot',\n",
    "    'folium',\n",
    "    'geopandas',\n",
    "    'geemap',\n",
    "    'ee',\n",
    "    'shap',\n",
    "]\n",
    "\n",
    "\n",
    "for library in libraries:\n",
    "    message = f'<hr><span style=\"color: salmon; font-weight: bold; width=1000px\">{library.upper()} ' \\\n",
    "    + 'library verification and installation if needed</span> <hr>'\n",
    "    display (Markdown(message))\n",
    "    \n",
    "    !pip install {library} --upgrade"
   ]
  },
  {
   "cell_type": "code",
   "execution_count": null,
   "metadata": {},
   "outputs": [],
   "source": []
  }
 ],
 "metadata": {
  "hide_input": false,
  "kernelspec": {
   "display_name": "Python 3 (ipykernel)",
   "language": "python",
   "name": "python3"
  },
  "language_info": {
   "codemirror_mode": {
    "name": "ipython",
    "version": 3
   },
   "file_extension": ".py",
   "mimetype": "text/x-python",
   "name": "python",
   "nbconvert_exporter": "python",
   "pygments_lexer": "ipython3",
   "version": "3.9.7"
  },
  "latex_envs": {
   "LaTeX_envs_menu_present": true,
   "autoclose": true,
   "autocomplete": true,
   "bibliofile": "biblio.bib",
   "cite_by": "apalike",
   "current_citInitial": 1,
   "eqLabelWithNumbers": true,
   "eqNumInitial": 1,
   "hotkeys": {
    "equation": "Ctrl-E",
    "itemize": "Ctrl-I"
   },
   "labels_anchors": false,
   "latex_user_defs": false,
   "report_style_numbering": true,
   "user_envs_cfg": false
  },
  "nbTranslate": {
   "displayLangs": [
    "*"
   ],
   "hotkey": "alt-t",
   "langInMainMenu": true,
   "sourceLang": "en",
   "targetLang": "fr",
   "useGoogleTranslate": true
  },
  "toc": {
   "base_numbering": 1,
   "nav_menu": {},
   "number_sections": true,
   "sideBar": true,
   "skip_h1_title": false,
   "title_cell": "Table of Contents",
   "title_sidebar": "Contents",
   "toc_cell": false,
   "toc_position": {},
   "toc_section_display": true,
   "toc_window_display": false
  },
  "varInspector": {
   "cols": {
    "lenName": 16,
    "lenType": 16,
    "lenVar": 40
   },
   "kernels_config": {
    "python": {
     "delete_cmd_postfix": "",
     "delete_cmd_prefix": "del ",
     "library": "var_list.py",
     "varRefreshCmd": "print(var_dic_list())"
    },
    "r": {
     "delete_cmd_postfix": ") ",
     "delete_cmd_prefix": "rm(",
     "library": "var_list.r",
     "varRefreshCmd": "cat(var_dic_list()) "
    }
   },
   "types_to_exclude": [
    "module",
    "function",
    "builtin_function_or_method",
    "instance",
    "_Feature"
   ],
   "window_display": false
  }
 },
 "nbformat": 4,
 "nbformat_minor": 4
}
